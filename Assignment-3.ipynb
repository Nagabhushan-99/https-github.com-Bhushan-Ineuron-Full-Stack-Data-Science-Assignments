{
 "cells": [
  {
   "cell_type": "markdown",
   "id": "86f61f2a",
   "metadata": {},
   "source": [
    "Q1) why are functions advantageous to have in your programs?\n",
    "Ans: because of their reusuability which makes program shorter, easy to rean and update"
   ]
  },
  {
   "cell_type": "markdown",
   "id": "f3394d6d",
   "metadata": {},
   "source": [
    "Q2) when does the code in a function run:when it's specified or when it's called? \n",
    "Ans: When a function is called and starts executing the function"
   ]
  },
  {
   "cell_type": "markdown",
   "id": "99d15bb8",
   "metadata": {},
   "source": [
    "Q3) what statement creates a function?\n",
    "Ans: def function_name(arguments):\n",
    "         return arguments"
   ]
  },
  {
   "cell_type": "markdown",
   "id": "da93c5f2",
   "metadata": {},
   "source": [
    "Q4) What is the difference between a function and a function call?\n",
    "Ans: function means a pre-coded task which will only perform if it is called this is where function call comes into picture to achieve the task."
   ]
  },
  {
   "cell_type": "markdown",
   "id": "f04cbb47",
   "metadata": {},
   "source": [
    "Q5) How many global scopes are there in a Python program? How many local scopes?\n",
    "Ans: there is only one global scope per python program and remains there untill program is terminated.\n",
    "there can be as many local scopes as you in side a program because variable crearted inside a function can only be used in that space."
   ]
  },
  {
   "cell_type": "markdown",
   "id": "9f733453",
   "metadata": {},
   "source": [
    "Q6) What happens to variables in a local scope when the function call returns?\n",
    "Ans: variable in a local space is confined to that space of function can only be used in that function and therefore retains its value untill next time function is called"
   ]
  },
  {
   "cell_type": "markdown",
   "id": "9219affc",
   "metadata": {},
   "source": [
    "Q7) What is the concept of a return value? Is it possible to have a return value in an expression?\n",
    "Ans: It is a special statement in a function used to sent result to caller who called function.\n",
    "yes it is possible to have return value in an expression."
   ]
  },
  {
   "cell_type": "markdown",
   "id": "b93e5d1d",
   "metadata": {},
   "source": [
    "Q8) If a function does not have a return statement, what is the return value of a call to that function?\n",
    "Ans: it doesnt return any particular value for example if you want to addition of number it will perform addition but not return the results without return statement."
   ]
  },
  {
   "cell_type": "markdown",
   "id": "3f260c93",
   "metadata": {},
   "source": [
    "Q9) How do you make a function variable refer to the global variable?\n",
    "Ans: Global variable is a variable which is not connected to any particular function i.e it is free to be called in any function and also be reused. Therefore to refer a function variable to global variable we use global keyword to declare which variable are global"
   ]
  },
  {
   "cell_type": "markdown",
   "id": "ac3b6c49",
   "metadata": {},
   "source": [
    "Q10) What is the data type of None?"
   ]
  },
  {
   "cell_type": "code",
   "execution_count": 1,
   "id": "b842ad6c",
   "metadata": {},
   "outputs": [],
   "source": [
    "Ans: type(None) # it is null neither Zero nor any other value"
   ]
  },
  {
   "cell_type": "markdown",
   "id": "186d954f",
   "metadata": {},
   "source": [
    "Q11)  What does the sentence import areallyourpetsnamederic do?\n",
    "Ans: it will import areallyourpetnamederic module."
   ]
  },
  {
   "cell_type": "markdown",
   "id": "34688081",
   "metadata": {},
   "source": [
    "Q12)If you had a bacon() feature in a spam module, what would you call it after importing spam?\n",
    "Ans: spam.bacon()"
   ]
  },
  {
   "cell_type": "markdown",
   "id": "0c089569",
   "metadata": {},
   "source": [
    "Q13) What can you do to save a programme from crashing if it encounters an error?\n",
    "Ans: I will use try and catch for preventing crash"
   ]
  },
  {
   "cell_type": "markdown",
   "id": "5c9b1e35",
   "metadata": {},
   "source": [
    "Q14) What is the purpose of the try clause? What is the purpose of the except clause?\n",
    "Ans: TRY CLAUSE: try clause is used when you think that program can crash so you try to run the program and it crashes it wont disturb other part of program\n",
    "EXCEPT CLAUSE: except clause is used when you are trying a certain part of program but it fails so it used as a response to exception."
   ]
  }
 ],
 "metadata": {
  "kernelspec": {
   "display_name": "Python 3",
   "language": "python",
   "name": "python3"
  },
  "language_info": {
   "codemirror_mode": {
    "name": "ipython",
    "version": 3
   },
   "file_extension": ".py",
   "mimetype": "text/x-python",
   "name": "python",
   "nbconvert_exporter": "python",
   "pygments_lexer": "ipython3",
   "version": "3.8.8"
  }
 },
 "nbformat": 4,
 "nbformat_minor": 5
}
