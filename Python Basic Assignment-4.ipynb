{
 "cells": [
  {
   "cell_type": "markdown",
   "id": "ed935632",
   "metadata": {},
   "source": [
    "1. What exactly is []?"
   ]
  },
  {
   "cell_type": "markdown",
   "id": "e4f95141",
   "metadata": {},
   "source": [
    "Ans: [ ] represents an empty container of list"
   ]
  },
  {
   "cell_type": "markdown",
   "id": "410fdcc5",
   "metadata": {},
   "source": [
    "2. In a list of values stored in a variable called spam, how would you assign the value 'hello' as the third value? (Assume [2, 4, 6, 8, 10] are in spam.)"
   ]
  },
  {
   "cell_type": "code",
   "execution_count": 1,
   "id": "cd172822",
   "metadata": {},
   "outputs": [
    {
     "name": "stdout",
     "output_type": "stream",
     "text": [
      "[2, 4, 'hello', 8, 10]\n"
     ]
    }
   ],
   "source": [
    "# Ans:\n",
    "spam=[2,4,6,8,10]\n",
    "spam[2]='hello'\n",
    "print(spam)"
   ]
  },
  {
   "cell_type": "markdown",
   "id": "c10f8cd9",
   "metadata": {},
   "source": [
    "Let's pretend the spam includes the list ['a', 'b', 'c', 'd'] for the next three queries."
   ]
  },
  {
   "cell_type": "code",
   "execution_count": 2,
   "id": "25be17d8",
   "metadata": {},
   "outputs": [],
   "source": [
    "# Ans:\n",
    "spam=['a','b','c','d']"
   ]
  },
  {
   "cell_type": "markdown",
   "id": "a1d2477a",
   "metadata": {},
   "source": [
    "3. What is the value of spam[int(int('3' * 2) / 113)]?"
   ]
  },
  {
   "cell_type": "code",
   "execution_count": 9,
   "id": "44fdd2b7",
   "metadata": {},
   "outputs": [
    {
     "data": {
      "text/plain": [
       "'a'"
      ]
     },
     "execution_count": 9,
     "metadata": {},
     "output_type": "execute_result"
    }
   ],
   "source": [
    "spam[int(int('3' * 2) /113)]"
   ]
  },
  {
   "cell_type": "markdown",
   "id": "b452722e",
   "metadata": {},
   "source": [
    "4. What is the value of spam[-1]?"
   ]
  },
  {
   "cell_type": "code",
   "execution_count": 5,
   "id": "255e6149",
   "metadata": {},
   "outputs": [
    {
     "data": {
      "text/plain": [
       "'d'"
      ]
     },
     "execution_count": 5,
     "metadata": {},
     "output_type": "execute_result"
    }
   ],
   "source": [
    "spam[-1]"
   ]
  },
  {
   "cell_type": "markdown",
   "id": "8856c5f6",
   "metadata": {},
   "source": [
    "5. What is the value of spam[:2]?"
   ]
  },
  {
   "cell_type": "code",
   "execution_count": 10,
   "id": "0b08d415",
   "metadata": {},
   "outputs": [
    {
     "data": {
      "text/plain": [
       "['a', 'b']"
      ]
     },
     "execution_count": 10,
     "metadata": {},
     "output_type": "execute_result"
    }
   ],
   "source": [
    "spam[:2]"
   ]
  },
  {
   "cell_type": "markdown",
   "id": "af9d22b7",
   "metadata": {},
   "source": [
    "Let's pretend bacon has the list [3.14, 'cat,' 11, 'cat,' True] for the next three questions."
   ]
  },
  {
   "cell_type": "code",
   "execution_count": 17,
   "id": "b00fbdf2",
   "metadata": {},
   "outputs": [],
   "source": [
    "# Ans:\n",
    "bacon=[3.14,'cat',11,'cat',True]"
   ]
  },
  {
   "cell_type": "markdown",
   "id": "17d8c3ab",
   "metadata": {},
   "source": [
    "6. What is the value of bacon.index('cat')?"
   ]
  },
  {
   "cell_type": "code",
   "execution_count": 18,
   "id": "39b8b726",
   "metadata": {},
   "outputs": [
    {
     "data": {
      "text/plain": [
       "1"
      ]
     },
     "execution_count": 18,
     "metadata": {},
     "output_type": "execute_result"
    }
   ],
   "source": [
    "bacon.index('cat')"
   ]
  },
  {
   "cell_type": "markdown",
   "id": "3c06e8f8",
   "metadata": {},
   "source": [
    "7. How does bacon.append(99) change the look of the list value in bacon?"
   ]
  },
  {
   "cell_type": "code",
   "execution_count": 19,
   "id": "afde414c",
   "metadata": {},
   "outputs": [
    {
     "data": {
      "text/plain": [
       "[3.14, 'cat', 11, 'cat', True, 99]"
      ]
     },
     "execution_count": 19,
     "metadata": {},
     "output_type": "execute_result"
    }
   ],
   "source": [
    "bacon.append(99)\n",
    "bacon"
   ]
  },
  {
   "cell_type": "markdown",
   "id": "fde3071f",
   "metadata": {},
   "source": [
    "8. How does bacon.remove('cat') change the look of the list in bacon?"
   ]
  },
  {
   "cell_type": "code",
   "execution_count": 20,
   "id": "4ab89994",
   "metadata": {},
   "outputs": [
    {
     "data": {
      "text/plain": [
       "[3.14, 11, 'cat', True, 99]"
      ]
     },
     "execution_count": 20,
     "metadata": {},
     "output_type": "execute_result"
    }
   ],
   "source": [
    "bacon.remove('cat')\n",
    "bacon"
   ]
  },
  {
   "cell_type": "markdown",
   "id": "3ca8d7c2",
   "metadata": {},
   "source": [
    "9. What are the list concatenation and list replication operators?"
   ]
  },
  {
   "cell_type": "code",
   "execution_count": 21,
   "id": "ecd07439",
   "metadata": {},
   "outputs": [
    {
     "name": "stdout",
     "output_type": "stream",
     "text": [
      "['Krish Naik', 'Sudhanshu Kumar', 'Saini', 'Data scientist', 'Python Developer', 'Machine Learning Enginner']\n"
     ]
    }
   ],
   "source": [
    "#Ans:\n",
    "#List concatenation\n",
    "List1=['Krish Naik', 'Sudhanshu Kumar', 'Saini']\n",
    "List2=['Data scientist', 'Python Developer','Machine Learning Developer']\n",
    "List3=List1+List2\n",
    "print(List3)"
   ]
  },
  {
   "cell_type": "code",
   "execution_count": 22,
   "id": "116e332f",
   "metadata": {},
   "outputs": [
    {
     "name": "stdout",
     "output_type": "stream",
     "text": [
      "['Krish Naik', 'Sudhanshu kumar', 'Saini']\n"
     ]
    }
   ],
   "source": [
    "# List replication\n",
    "List1=['Krish Naik','Sudhanshu kumar','Saini']\n",
    "List2=List1*1\n",
    "print(List2)"
   ]
  },
  {
   "cell_type": "markdown",
   "id": "b7d8dd22",
   "metadata": {},
   "source": [
    "10. What is difference between the list methods append() and insert()?"
   ]
  },
  {
   "cell_type": "code",
   "execution_count": 23,
   "id": "8d9a41c7",
   "metadata": {},
   "outputs": [
    {
     "data": {
      "text/plain": [
       "['Krish Naik', 'Sudhanshu Kumar', 'Saini', 'Kunal Shah']"
      ]
     },
     "execution_count": 23,
     "metadata": {},
     "output_type": "execute_result"
    }
   ],
   "source": [
    "# append()\n",
    "List1=['Krish Naik','Sudhanshu Kumar','Saini']\n",
    "List1.append('Kunal Shah')  #It adds element to the end of list\n",
    "List1"
   ]
  },
  {
   "cell_type": "code",
   "execution_count": 25,
   "id": "9be1bed1",
   "metadata": {},
   "outputs": [
    {
     "data": {
      "text/plain": [
       "['Krish Naik', 'Bhushan Kumar', 'Sudhanshu Kumar', 'Saini']"
      ]
     },
     "execution_count": 25,
     "metadata": {},
     "output_type": "execute_result"
    }
   ],
   "source": [
    "# insert()\n",
    "List1=['Krish Naik','Sudhanshu Kumar','Saini']\n",
    "List1.insert(1,'Bhushan Kumar') #it inserts element at particular index/position.\n",
    "List1"
   ]
  },
  {
   "cell_type": "markdown",
   "id": "13b6e7fe",
   "metadata": {},
   "source": [
    "11. What are the two methods for removing items from a list?"
   ]
  },
  {
   "cell_type": "code",
   "execution_count": 26,
   "id": "b9383a21",
   "metadata": {},
   "outputs": [
    {
     "data": {
      "text/plain": [
       "['Krish Naik', 'Sudhanshu Kumar']"
      ]
     },
     "execution_count": 26,
     "metadata": {},
     "output_type": "execute_result"
    }
   ],
   "source": [
    "#Method 1:\n",
    "List1=['Krish Naik','Sudhanshu Kumar','Saini']\n",
    "List1.remove('Saini')\n",
    "List1"
   ]
  },
  {
   "cell_type": "code",
   "execution_count": 27,
   "id": "284a24f4",
   "metadata": {},
   "outputs": [
    {
     "data": {
      "text/plain": [
       "['Krish Naik', 'Sudhanshu Kumar', 'Saini']"
      ]
     },
     "execution_count": 27,
     "metadata": {},
     "output_type": "execute_result"
    }
   ],
   "source": [
    "#method 2:\n",
    "List1=['Krish Naik','Sudhanshu Kumar','Saini']\n",
    "List1"
   ]
  },
  {
   "cell_type": "code",
   "execution_count": 28,
   "id": "238fb23a",
   "metadata": {},
   "outputs": [
    {
     "data": {
      "text/plain": [
       "'Krish Naik'"
      ]
     },
     "execution_count": 28,
     "metadata": {},
     "output_type": "execute_result"
    }
   ],
   "source": [
    "List1.pop(0)"
   ]
  },
  {
   "cell_type": "code",
   "execution_count": 29,
   "id": "1aefee62",
   "metadata": {},
   "outputs": [
    {
     "data": {
      "text/plain": [
       "['Sudhanshu Kumar', 'Saini']"
      ]
     },
     "execution_count": 29,
     "metadata": {},
     "output_type": "execute_result"
    }
   ],
   "source": [
    "List1"
   ]
  },
  {
   "cell_type": "markdown",
   "id": "caa34245",
   "metadata": {},
   "source": [
    "12. Describe how list values and string values are identical."
   ]
  },
  {
   "cell_type": "markdown",
   "id": "519596f9",
   "metadata": {},
   "source": [
    "Ans: both list and string are ordered collection of elements except in list it can contain different data types."
   ]
  },
  {
   "cell_type": "markdown",
   "id": "18bd46a8",
   "metadata": {},
   "source": [
    "13. What's the difference between tuples and lists? "
   ]
  },
  {
   "cell_type": "markdown",
   "id": "12cc88b3",
   "metadata": {},
   "source": [
    "Ans: list are mutable but tuples are immutable i.e we can add,delete,reassign elements in list which we cannot do in tuples."
   ]
  },
  {
   "cell_type": "markdown",
   "id": "24886d57",
   "metadata": {},
   "source": [
    "14. How do you type a tuple value that only contains the integer 42?"
   ]
  },
  {
   "cell_type": "code",
   "execution_count": 30,
   "id": "001ea2c6",
   "metadata": {},
   "outputs": [
    {
     "data": {
      "text/plain": [
       "(42,)"
      ]
     },
     "execution_count": 30,
     "metadata": {},
     "output_type": "execute_result"
    }
   ],
   "source": [
    "# Ans: \n",
    "(42,)"
   ]
  },
  {
   "cell_type": "markdown",
   "id": "5db12ac7",
   "metadata": {},
   "source": [
    "15. How do you get a list value's tuple form? How do you get a tuple value's list form?"
   ]
  },
  {
   "cell_type": "code",
   "execution_count": 46,
   "id": "423ea4ef",
   "metadata": {},
   "outputs": [],
   "source": [
    "T=[(1,2,3)]"
   ]
  },
  {
   "cell_type": "code",
   "execution_count": 47,
   "id": "e36ba427",
   "metadata": {},
   "outputs": [
    {
     "data": {
      "text/plain": [
       "[(1, 2, 3)]"
      ]
     },
     "execution_count": 47,
     "metadata": {},
     "output_type": "execute_result"
    }
   ],
   "source": [
    "T"
   ]
  },
  {
   "cell_type": "code",
   "execution_count": 42,
   "id": "13d46eb1",
   "metadata": {},
   "outputs": [],
   "source": [
    "L=((1,2,3))"
   ]
  },
  {
   "cell_type": "code",
   "execution_count": 43,
   "id": "4f84613e",
   "metadata": {},
   "outputs": [
    {
     "data": {
      "text/plain": [
       "(1, 2, 3)"
      ]
     },
     "execution_count": 43,
     "metadata": {},
     "output_type": "execute_result"
    }
   ],
   "source": [
    "L"
   ]
  },
  {
   "cell_type": "markdown",
   "id": "523170ad",
   "metadata": {},
   "source": [
    "16. Variables that \"contain\" list values are not necessarily lists themselves. Instead, what do they contain?"
   ]
  },
  {
   "cell_type": "code",
   "execution_count": 48,
   "id": "b8a8661c",
   "metadata": {},
   "outputs": [
    {
     "data": {
      "text/plain": [
       "list"
      ]
     },
     "execution_count": 48,
     "metadata": {},
     "output_type": "execute_result"
    }
   ],
   "source": [
    "# Ans:\n",
    "a = [1,2,3]\n",
    "type(a)\n",
    "#its just a name reference because list itself is a object."
   ]
  },
  {
   "cell_type": "markdown",
   "id": "8f6e1f73",
   "metadata": {},
   "source": [
    "17. How do you distinguish between copy.copy() and copy.deepcopy()?"
   ]
  },
  {
   "cell_type": "markdown",
   "id": "8700938a",
   "metadata": {},
   "source": [
    "Ans: deepcopy does not change original object if in future we change deepcopied object. where as original object changes with copy()"
   ]
  }
 ],
 "metadata": {
  "kernelspec": {
   "display_name": "Python 3",
   "language": "python",
   "name": "python3"
  },
  "language_info": {
   "codemirror_mode": {
    "name": "ipython",
    "version": 3
   },
   "file_extension": ".py",
   "mimetype": "text/x-python",
   "name": "python",
   "nbconvert_exporter": "python",
   "pygments_lexer": "ipython3",
   "version": "3.8.8"
  }
 },
 "nbformat": 4,
 "nbformat_minor": 5
}
