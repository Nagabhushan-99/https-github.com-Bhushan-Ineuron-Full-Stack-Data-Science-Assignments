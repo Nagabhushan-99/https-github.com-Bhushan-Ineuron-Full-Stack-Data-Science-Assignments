{
 "cells": [
  {
   "cell_type": "markdown",
   "id": "2af58ddb",
   "metadata": {},
   "source": [
    "#### Q1). What is the name of the feature responsible for generating Regex objects?"
   ]
  },
  {
   "cell_type": "markdown",
   "id": "519ffaee",
   "metadata": {},
   "source": [
    "Ans: re.compile() is the feature responsible for generation of Regex objects."
   ]
  },
  {
   "cell_type": "code",
   "execution_count": 1,
   "id": "9969efb6",
   "metadata": {},
   "outputs": [],
   "source": [
    "import re"
   ]
  },
  {
   "cell_type": "code",
   "execution_count": 2,
   "id": "62720b21",
   "metadata": {},
   "outputs": [],
   "source": [
    "a=re.compile(\"some_random_pattern\")"
   ]
  },
  {
   "cell_type": "code",
   "execution_count": 3,
   "id": "b4d64059",
   "metadata": {},
   "outputs": [
    {
     "data": {
      "text/plain": [
       "re.Pattern"
      ]
     },
     "execution_count": 3,
     "metadata": {},
     "output_type": "execute_result"
    }
   ],
   "source": [
    "type(a)"
   ]
  },
  {
   "cell_type": "code",
   "execution_count": 4,
   "id": "6522018d",
   "metadata": {},
   "outputs": [
    {
     "name": "stdout",
     "output_type": "stream",
     "text": [
      "re.compile('some_random_pattern')\n"
     ]
    }
   ],
   "source": [
    "print(a)"
   ]
  },
  {
   "cell_type": "markdown",
   "id": "ce3cdb4b",
   "metadata": {},
   "source": [
    "#### Q2). Why do raw strings often appear in Regex objects?"
   ]
  },
  {
   "cell_type": "markdown",
   "id": "fcfa0037",
   "metadata": {},
   "source": [
    "Ans: Regular expressions use the backslash character ('\\') to indicate special forms (Metacharacters) or to allow special characters (speical sequences) to be used without invoking their special meaning. This collides with Python’s usage of the same character for the same purpose in string literals. Hence, Raw strings are used (e.g. r\"\\n\") so that backslashes do not have to be escaped."
   ]
  },
  {
   "cell_type": "markdown",
   "id": "9b7f65e1",
   "metadata": {},
   "source": [
    "#### Q3). What is the return value of the search() method?"
   ]
  },
  {
   "cell_type": "markdown",
   "id": "6781b8e3",
   "metadata": {},
   "source": [
    "Ans: The return value of re.search(pattern,string) method is a match object if the pattern is observed in the string else it returns a None"
   ]
  },
  {
   "cell_type": "code",
   "execution_count": 5,
   "id": "05311233",
   "metadata": {},
   "outputs": [],
   "source": [
    "import re"
   ]
  },
  {
   "cell_type": "code",
   "execution_count": 11,
   "id": "68dc9b45",
   "metadata": {},
   "outputs": [],
   "source": [
    "match=re.search('I',\"Iam a full stack datascience developer\",flags=re.IGNORECASE)"
   ]
  },
  {
   "cell_type": "code",
   "execution_count": 12,
   "id": "fbe9832c",
   "metadata": {},
   "outputs": [
    {
     "name": "stdout",
     "output_type": "stream",
     "text": [
      "Output: <re.Match object; span=(0, 1), match='I'>\n"
     ]
    }
   ],
   "source": [
    "print('Output:',match)"
   ]
  },
  {
   "cell_type": "code",
   "execution_count": 13,
   "id": "7adfe55b",
   "metadata": {},
   "outputs": [],
   "source": [
    "match=re.search('X',\"Iam a full stack datascience developer\",flags=re.IGNORECASE)"
   ]
  },
  {
   "cell_type": "code",
   "execution_count": 14,
   "id": "59a3e64c",
   "metadata": {},
   "outputs": [
    {
     "name": "stdout",
     "output_type": "stream",
     "text": [
      "Output: None\n"
     ]
    }
   ],
   "source": [
    "print('Output:',match)"
   ]
  },
  {
   "cell_type": "markdown",
   "id": "91969354",
   "metadata": {},
   "source": [
    "#### Q4). From a Match item, how do you get the actual strings that match the pattern?"
   ]
  },
  {
   "cell_type": "markdown",
   "id": "0ead8846",
   "metadata": {},
   "source": [
    "Ans: For Matched items group() methods returns actual strings that match the pattern"
   ]
  },
  {
   "cell_type": "code",
   "execution_count": 15,
   "id": "4e8ce9bf",
   "metadata": {},
   "outputs": [],
   "source": [
    "import re"
   ]
  },
  {
   "cell_type": "code",
   "execution_count": 16,
   "id": "47b700bc",
   "metadata": {},
   "outputs": [],
   "source": [
    "match=re.search('ineuron',\"Ineuron FullStack Datascience Program\",flags=re.IGNORECASE)"
   ]
  },
  {
   "cell_type": "code",
   "execution_count": 17,
   "id": "4442fff3",
   "metadata": {},
   "outputs": [
    {
     "name": "stdout",
     "output_type": "stream",
     "text": [
      "Output: Ineuron\n"
     ]
    }
   ],
   "source": [
    "print('Output:',match.group())"
   ]
  },
  {
   "cell_type": "markdown",
   "id": "a3ba0fb0",
   "metadata": {},
   "source": [
    "#### Q5). In the regex which created from the r'(\\d\\d\\d)-(\\d\\d\\d-\\d\\d\\d\\d)', what does group zero cover? Group 2? Group 1?"
   ]
  },
  {
   "cell_type": "markdown",
   "id": "17bcf998",
   "metadata": {},
   "source": [
    "Ans: In the Regex r'(\\d\\d\\d)-(\\d\\d\\d-\\d\\d\\d\\d)' the zero group covers the entire pattern match where as the first group cover (\\d\\d\\d) and the second group cover (\\d\\d\\d-\\d\\d\\d\\d)"
   ]
  },
  {
   "cell_type": "code",
   "execution_count": 33,
   "id": "7c199ab4",
   "metadata": {},
   "outputs": [
    {
     "name": "stdout",
     "output_type": "stream",
     "text": [
      "('924', '687-8887')\n",
      "924-687-8887\n",
      "924\n",
      "687-8887\n"
     ]
    }
   ],
   "source": [
    "# Example Program\n",
    "import re\n",
    "phoneNumRegex = re.compile(r'(\\d\\d\\d)-(\\d\\d\\d-\\d\\d\\d\\d)')\n",
    "mo = phoneNumRegex.search('My number is 924-687-8887.')\n",
    "print(mo.groups()) # Prints all groups in a tuple format\n",
    "print(mo.group()) # Always returns the fully matched string \n",
    "print(mo.group(1)) # Returns the first group\n",
    "print(mo.group(2)) # Returns the second group"
   ]
  },
  {
   "cell_type": "markdown",
   "id": "0cff8cc9",
   "metadata": {},
   "source": [
    "#### Q6). In standard expression syntax, parentheses and intervals have distinct meanings. How can you tell a regex that you want it to fit real parentheses and periods?"
   ]
  },
  {
   "cell_type": "markdown",
   "id": "62489d33",
   "metadata": {},
   "source": [
    "Ans: The \\. \\( and \\) escape characters in the raw string passed to re.compile() will match actual parenthesis characters."
   ]
  },
  {
   "cell_type": "code",
   "execution_count": 35,
   "id": "68a91edb",
   "metadata": {},
   "outputs": [
    {
     "name": "stdout",
     "output_type": "stream",
     "text": [
      "(924) 687-8887\n"
     ]
    }
   ],
   "source": [
    "# Example Program\n",
    "import re\n",
    "phoneNumRegex = re.compile(r'(\\(\\d\\d\\d\\)) (\\d\\d\\d-\\d\\d\\d\\d)')\n",
    "mo = phoneNumRegex.search('My phone number is (924) 687-8887.')\n",
    "print(mo.group())"
   ]
  },
  {
   "cell_type": "markdown",
   "id": "e4f5296e",
   "metadata": {},
   "source": [
    "#### Q7) The findall() method returns a string list or a list of string tuples. What causes it to return one of the two options?"
   ]
  },
  {
   "cell_type": "markdown",
   "id": "a58426a5",
   "metadata": {},
   "source": [
    "Ans: If the regex pattern has no groups, a list of strings matched is returned. if the regex pattern has groups, a list of tuple of strings is returned."
   ]
  },
  {
   "cell_type": "code",
   "execution_count": 36,
   "id": "f284a620",
   "metadata": {},
   "outputs": [
    {
     "name": "stdout",
     "output_type": "stream",
     "text": [
      "[('(924)', '687-8887')]\n"
     ]
    }
   ],
   "source": [
    "# Example Program\n",
    "import re\n",
    "phoneNumRegex = re.compile(r'(\\(\\d\\d\\d\\)) (\\d\\d\\d-\\d\\d\\d\\d)')\n",
    "mo = phoneNumRegex.findall('My phone number is (924) 687-8887.')\n",
    "print(mo)"
   ]
  },
  {
   "cell_type": "code",
   "execution_count": 38,
   "id": "fbbdee75",
   "metadata": {},
   "outputs": [
    {
     "name": "stdout",
     "output_type": "stream",
     "text": [
      "['924-687-8887']\n"
     ]
    }
   ],
   "source": [
    "# Example Program\n",
    "import re\n",
    "phoneNumRegex = re.compile(r'\\d{3}-\\d{3}-\\d{4}')\n",
    "mo = phoneNumRegex.findall('My number is 924-687-8887.')\n",
    "print(mo)"
   ]
  },
  {
   "cell_type": "markdown",
   "id": "371c5f21",
   "metadata": {},
   "source": [
    "#### Q8). In standard expressions, what does the | character mean?"
   ]
  },
  {
   "cell_type": "markdown",
   "id": "4699a58e",
   "metadata": {},
   "source": [
    "Ans: In Standard Expressions | means OR operator."
   ]
  },
  {
   "cell_type": "markdown",
   "id": "9b0d1561",
   "metadata": {},
   "source": [
    "#### Q9).In regular expressions, what does the character stand for?"
   ]
  },
  {
   "cell_type": "markdown",
   "id": "1daa4c98",
   "metadata": {},
   "source": [
    "Ans: In regular Expressions, ? characters represents zero or one match of the preceeding group."
   ]
  },
  {
   "cell_type": "code",
   "execution_count": 41,
   "id": "81498747",
   "metadata": {},
   "outputs": [
    {
     "name": "stdout",
     "output_type": "stream",
     "text": [
      "<re.Match object; span=(0, 6), match='Batman'>\n",
      "<re.Match object; span=(0, 6), match='Batman'>\n"
     ]
    }
   ],
   "source": [
    "# Example program\n",
    "import re\n",
    "m1=re.search(\"Bat(wo)?man\",\"Batman returns\")\n",
    "print(m1)\n",
    "m2=re.search(\"Bat(wo)?man\",\"Batman returns\")\n",
    "print(m2)"
   ]
  },
  {
   "cell_type": "markdown",
   "id": "374c6cdb",
   "metadata": {},
   "source": [
    "#### Q10).In regular expressions, what is the difference between the + and * characters?"
   ]
  },
  {
   "cell_type": "markdown",
   "id": "24aab79d",
   "metadata": {},
   "source": [
    "Ans: In Regular Expressions, * Represents Zero ore more occurances of the preceeding group, whereas + represents one or more occurances of the preceeding group."
   ]
  },
  {
   "cell_type": "code",
   "execution_count": 43,
   "id": "7594d80f",
   "metadata": {},
   "outputs": [
    {
     "name": "stdout",
     "output_type": "stream",
     "text": [
      "<re.Match object; span=(0, 6), match='Batman'>\n",
      "None\n"
     ]
    }
   ],
   "source": [
    "# Example program\n",
    "import re\n",
    "m1=re.search(\"Bat(wo)*man\",\"Batman returns\")\n",
    "print(m1)\n",
    "m2=re.search(\"Bat(wo)+man\",\"Batman returns\")\n",
    "print(m2)"
   ]
  },
  {
   "cell_type": "markdown",
   "id": "8307a8f6",
   "metadata": {},
   "source": [
    "#### Q11). What is the difference between {4} and {4,5} in regular expression?"
   ]
  },
  {
   "cell_type": "markdown",
   "id": "8ea7427c",
   "metadata": {},
   "source": [
    "Ans: {4} means that its preceeding group should repeat 4 times. where as {4,5} means that its preceeding group should repeat mininum 4 times and maximum 5 times inclusively"
   ]
  },
  {
   "cell_type": "code",
   "execution_count": 45,
   "id": "c2d574a5",
   "metadata": {},
   "outputs": [
    {
     "name": "stdout",
     "output_type": "stream",
     "text": [
      "heyheyhey\n",
      "None\n"
     ]
    }
   ],
   "source": [
    "# Example program\n",
    "import re\n",
    "haRegex = re.compile(r'(hey){3}')\n",
    "m1 = haRegex.search('heyheyhey')\n",
    "m2 = haRegex.search('hey')\n",
    "print(m1.group())\n",
    "print(m2)"
   ]
  },
  {
   "cell_type": "markdown",
   "id": "f7604e6f",
   "metadata": {},
   "source": [
    "#### Q12) What do you mean by the \\d, \\w, and \\s shorthand character classes signify in regular expressions?"
   ]
  },
  {
   "cell_type": "markdown",
   "id": "72848c02",
   "metadata": {},
   "source": [
    "Ans: \\d, \\w and \\s are special sequences in regular expresssions in python:\n",
    "\\w – Matches a word character equivalent to [a-zA-Z0-9_]\n",
    "\\d – Matches digit character equivalent to [0-9]\n",
    "\\s – Matches whitespace character (space, tab, newline, etc.)"
   ]
  },
  {
   "cell_type": "markdown",
   "id": "9e24e6fb",
   "metadata": {},
   "source": [
    "13. What do means by \\D, \\W, and \\S shorthand character classes signify in regular expressions?"
   ]
  },
  {
   "cell_type": "markdown",
   "id": "81a76838",
   "metadata": {},
   "source": [
    "Ans: \\D, \\W and \\S are special sequences in regular expresssions in python:\n",
    "\\W – Matches any non-alphanumeric character equivalent to [^a-zA-Z0-9_]\n",
    "\\D – Matches any non-digit character, this is equivalent to the set class [^0-9]\n",
    "\\S – Matches any non-whitespace character"
   ]
  },
  {
   "cell_type": "markdown",
   "id": "c3e97a62",
   "metadata": {},
   "source": [
    "#### Q14). What is the difference between .*? and .*?"
   ]
  },
  {
   "cell_type": "markdown",
   "id": "1313b442",
   "metadata": {},
   "source": [
    "Ans: .* is a Greedy mode, which returns the longest string that meets the condition. Whereas .*? is a non greedy mode which returns the shortest string that meets the condition."
   ]
  },
  {
   "cell_type": "markdown",
   "id": "97bea20b",
   "metadata": {},
   "source": [
    "#### Q15). What is the syntax for matching both numbers and lowercase letters with a character class?"
   ]
  },
  {
   "cell_type": "markdown",
   "id": "3a32621f",
   "metadata": {},
   "source": [
    "Ans: The Synatax is Either [a-z0-9] or [0-9a-z]"
   ]
  },
  {
   "cell_type": "markdown",
   "id": "dcd9bc15",
   "metadata": {},
   "source": [
    "#### Q16). What is the procedure for making a normal expression in regax case insensitive?"
   ]
  },
  {
   "cell_type": "markdown",
   "id": "44280200",
   "metadata": {},
   "source": [
    "Ans: We can pass re.IGNORECASE as a flag to make a noraml expression case insensitive"
   ]
  },
  {
   "cell_type": "markdown",
   "id": "e331b112",
   "metadata": {},
   "source": [
    "#### Q17). What does the . character normally match? What does it match if re.DOTALL is passed as 2nd argument in re.compile()?"
   ]
  },
  {
   "cell_type": "markdown",
   "id": "921cedc5",
   "metadata": {},
   "source": [
    "Ans: Dot . character matches everything in input except newline character .. By passing re.DOTALL as a flag to re.compile(), you can make the dot character match all characters, including the newline character."
   ]
  },
  {
   "cell_type": "markdown",
   "id": "f21a4244",
   "metadata": {},
   "source": [
    "#### Q18)  If numReg = re.compile(r'\\d+'), what will numRegex.sub('X', '11 drummers, 10 pipers, five rings, 4 hen') return?"
   ]
  },
  {
   "cell_type": "markdown",
   "id": "d174cf5b",
   "metadata": {},
   "source": [
    "Ans: The Ouput will be 'X drummers, X pipers, five rings, X hen'"
   ]
  },
  {
   "cell_type": "code",
   "execution_count": 1,
   "id": "dcf13b86",
   "metadata": {},
   "outputs": [
    {
     "data": {
      "text/plain": [
       "'X drummers, X pipers, five rings, X hen'"
      ]
     },
     "execution_count": 1,
     "metadata": {},
     "output_type": "execute_result"
    }
   ],
   "source": [
    "# Example code\n",
    "import re\n",
    "numReg = re.compile(r'\\d+')\n",
    "numReg.sub('X', '11 drummers, 10 pipers, five rings, 4 hen')"
   ]
  },
  {
   "cell_type": "markdown",
   "id": "299774b6",
   "metadata": {},
   "source": [
    "#### Q19). What does passing re.VERBOSE as the 2nd argument to re.compile() allow to do?"
   ]
  },
  {
   "cell_type": "markdown",
   "id": "80299ee6",
   "metadata": {},
   "source": [
    "Ans: re.VERBOSE will allow to add whitespace and comments to string passed to re.compile()."
   ]
  },
  {
   "cell_type": "markdown",
   "id": "d31f7a6f",
   "metadata": {},
   "source": [
    "#### Q20). How would you write a regex that match a number with comma for every three digits? It must match the given following:\n",
    "'42'\n",
    "'1,234'\n",
    "'6,368,745'\n",
    "but not the following:\n",
    "'12,34,567' (which has only two digits between the commas)\n",
    "'1234' (which lacks commas)"
   ]
  },
  {
   "cell_type": "code",
   "execution_count": 2,
   "id": "4d7148a4",
   "metadata": {},
   "outputs": [
    {
     "name": "stdout",
     "output_type": "stream",
     "text": [
      "Output: 42 -> <re.Match object; span=(0, 2), match='42'>\n",
      "Output: 1,234 -> <re.Match object; span=(0, 5), match='1,234'>\n",
      "Output: 6,368,745 -> <re.Match object; span=(0, 9), match='6,368,745'>\n",
      "Output: 12,34,567 -> None\n",
      "Output: 1234 -> None\n"
     ]
    }
   ],
   "source": [
    "# Ans)\n",
    "import re\n",
    "pattern = r'^\\d{1,3}(,\\d{3})*$'\n",
    "pagex = re.compile(pattern)\n",
    "for ele in ['42','1,234', '6,368,745','12,34,567','1234']:\n",
    "    print('Output:',ele, '->', pagex.search(ele))"
   ]
  },
  {
   "cell_type": "markdown",
   "id": "cf96100c",
   "metadata": {},
   "source": [
    "#### Q21). How would you write a regex that matches the full name of someone whose last name is Watanabe? You can assume that the first name that comes before it will always be one word that begins with a capital letter. The regex must match the following:\n",
    "'Haruto Watanabe'\n",
    "'Alice Watanabe'\n",
    "'RoboCop Watanabe'\n",
    "but not the following:\n",
    "'haruto Watanabe' (where the first name is not capitalized)\n",
    "'Mr. Watanabe' (where the preceding word has a nonletter character)\n",
    "'Watanabe' (which has no first name)\n",
    "'Haruto watanabe' (where Watanabe is not capitalized)"
   ]
  },
  {
   "cell_type": "markdown",
   "id": "5962466a",
   "metadata": {},
   "source": [
    "Ans: pattern = r'[A-Z]{1}[a-z]*\\sWatanabe'"
   ]
  },
  {
   "cell_type": "code",
   "execution_count": 3,
   "id": "7eef18ed",
   "metadata": {},
   "outputs": [
    {
     "name": "stdout",
     "output_type": "stream",
     "text": [
      "Output:  Haruto Watanabe -> <re.Match object; span=(0, 15), match='Haruto Watanabe'>\n",
      "Output:  Alice Watanabe -> <re.Match object; span=(0, 14), match='Alice Watanabe'>\n",
      "Output:  RoboCop Watanabe -> <re.Match object; span=(4, 16), match='Cop Watanabe'>\n",
      "Output:  haruto Watanabe -> None\n",
      "Output:  Mr. Watanabe -> None\n",
      "Output:  Watanabe -> None\n",
      "Output:  Haruto watanabe -> None\n"
     ]
    }
   ],
   "source": [
    "# Example code\n",
    "import re\n",
    "pattern = r'[A-Z]{1}[a-z]*\\sWatanabe'\n",
    "namex = re.compile(pattern)\n",
    "for name in ['Haruto Watanabe','Alice Watanabe','RoboCop Watanabe','haruto Watanabe','Mr. Watanabe','Watanabe','Haruto watanabe']:\n",
    "    print('Output: ',name,'->',namex.search(name))"
   ]
  },
  {
   "cell_type": "markdown",
   "id": "fb190110",
   "metadata": {},
   "source": [
    "#### Q22). How would you write a regex that matches a sentence where the first word is either Alice, Bob, or Carol; the second word is either eats, pets, or throws; the third word is apples, cats, or baseballs; and the sentence ends with a period? This regex should be case-insensitive. It must match the following:\n",
    "'Alice eats apples.'\n",
    "'Bob pets cats.'\n",
    "'Carol throws baseballs.'\n",
    "'Alice throws Apples.'\n",
    "'BOB EATS CATS.'\n",
    "but not the following:\n",
    "'RoboCop eats apples.'\n",
    "'ALICE THROWS FOOTBALLS.'\n",
    "'Carol eats 7 cats.'"
   ]
  },
  {
   "cell_type": "markdown",
   "id": "7312f6e7",
   "metadata": {},
   "source": [
    "Ans: pattern = r'(Alice|Bob|Carol)\\s(eats|pets|throws)\\s(apples|cats|baseballs)\\.'"
   ]
  },
  {
   "cell_type": "code",
   "execution_count": 4,
   "id": "3a9fd619",
   "metadata": {},
   "outputs": [
    {
     "name": "stdout",
     "output_type": "stream",
     "text": [
      "Output:  Alice eats apples. -> <re.Match object; span=(0, 18), match='Alice eats apples.'>\n",
      "Output:  Bob pets cats. -> <re.Match object; span=(0, 14), match='Bob pets cats.'>\n",
      "Output:  Carol throws baseballs. -> <re.Match object; span=(0, 23), match='Carol throws baseballs.'>\n",
      "Output:  Alice throws Apples. -> <re.Match object; span=(0, 20), match='Alice throws Apples.'>\n",
      "Output:  BOB EATS CATS. -> <re.Match object; span=(0, 14), match='BOB EATS CATS.'>\n",
      "Output:  RoboCop eats apples. -> None\n",
      "Output:  ALICE THROWS FOOTBALLS. -> None\n",
      "Output:  Carol eats 7 cats. -> None\n"
     ]
    }
   ],
   "source": [
    "import re\n",
    "pattern = r'(Alice|Bob|Carol)\\s(eats|pets|throws)\\s(apples|cats|baseballs)\\.'\n",
    "casex = re.compile(pattern,re.IGNORECASE)\n",
    "for ele in ['Alice eats apples.','Bob pets cats.','Carol throws baseballs.','Alice throws Apples.','BOB EATS CATS.','RoboCop eats apples.'\n",
    ",'ALICE THROWS FOOTBALLS.','Carol eats 7 cats.']:\n",
    "    print('Output: ',ele,'->',casex.search(ele))"
   ]
  }
 ],
 "metadata": {
  "kernelspec": {
   "display_name": "Python 3",
   "language": "python",
   "name": "python3"
  },
  "language_info": {
   "codemirror_mode": {
    "name": "ipython",
    "version": 3
   },
   "file_extension": ".py",
   "mimetype": "text/x-python",
   "name": "python",
   "nbconvert_exporter": "python",
   "pygments_lexer": "ipython3",
   "version": "3.8.8"
  }
 },
 "nbformat": 4,
 "nbformat_minor": 5
}
