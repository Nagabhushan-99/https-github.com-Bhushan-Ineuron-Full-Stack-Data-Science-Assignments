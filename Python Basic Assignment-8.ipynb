{
 "cells": [
  {
   "cell_type": "markdown",
   "id": "e170cb88",
   "metadata": {},
   "source": [
    "#### Q1) Is the Python Standard Library included with PyInputPlus?"
   ]
  },
  {
   "cell_type": "markdown",
   "id": "51678463",
   "metadata": {},
   "source": [
    "Ans: No, PyInputPlus is not a part of Python Standard Library, it needs to be installed explicitly using the command !pip install PyInputPlus "
   ]
  },
  {
   "cell_type": "code",
   "execution_count": 1,
   "id": "a72ff6c6",
   "metadata": {},
   "outputs": [
    {
     "name": "stdout",
     "output_type": "stream",
     "text": [
      "Requirement already satisfied: PyInputplus in c:\\users\\vasudha\\anaconda3\\lib\\site-packages (0.2.8)\n",
      "Requirement already satisfied: stdiomask>=0.0.3 in c:\\users\\vasudha\\anaconda3\\lib\\site-packages (from PyInputplus) (0.0.5)\n",
      "Requirement already satisfied: pysimplevalidate>=0.2.7 in c:\\users\\vasudha\\anaconda3\\lib\\site-packages (from PyInputplus) (0.2.9)\n"
     ]
    }
   ],
   "source": [
    "!pip install PyInputplus"
   ]
  },
  {
   "cell_type": "code",
   "execution_count": 2,
   "id": "376307f6",
   "metadata": {},
   "outputs": [],
   "source": [
    "# Example code\n",
    "import pyinputplus as pyip"
   ]
  },
  {
   "cell_type": "code",
   "execution_count": 3,
   "id": "7fe575ca",
   "metadata": {},
   "outputs": [
    {
     "name": "stdout",
     "output_type": "stream",
     "text": [
      "Krish Naik\n"
     ]
    }
   ],
   "source": [
    "r=pyip.inputStr()"
   ]
  },
  {
   "cell_type": "code",
   "execution_count": 4,
   "id": "71e4ce6f",
   "metadata": {},
   "outputs": [],
   "source": [
    "import pyinputplus as pyip"
   ]
  },
  {
   "cell_type": "code",
   "execution_count": 5,
   "id": "76d5d364",
   "metadata": {},
   "outputs": [
    {
     "name": "stdout",
     "output_type": "stream",
     "text": [
      "ten\n",
      "'ten' is not a number.\n",
      "10\n"
     ]
    }
   ],
   "source": [
    "r=pyip.inputNum()"
   ]
  },
  {
   "cell_type": "code",
   "execution_count": 6,
   "id": "68fe97ad",
   "metadata": {},
   "outputs": [
    {
     "data": {
      "text/plain": [
       "10"
      ]
     },
     "execution_count": 6,
     "metadata": {},
     "output_type": "execute_result"
    }
   ],
   "source": [
    "r"
   ]
  },
  {
   "cell_type": "markdown",
   "id": "0e407daa",
   "metadata": {},
   "source": [
    "#### Q2)  Why is PyInputPlus commonly imported with import pyinputplus as pypi?"
   ]
  },
  {
   "cell_type": "markdown",
   "id": "1b3fa4f5",
   "metadata": {},
   "source": [
    "Ans: You can import the module with import pyinputplus as pyip so that you can enter a shorter name when calling the module's functions."
   ]
  },
  {
   "cell_type": "code",
   "execution_count": 7,
   "id": "b6b5f900",
   "metadata": {},
   "outputs": [],
   "source": [
    "import pyinputplus as pyip"
   ]
  },
  {
   "cell_type": "markdown",
   "id": "8eab86df",
   "metadata": {},
   "source": [
    "### Q3) How do you distinguish between inputInt() and inputFloat()?"
   ]
  },
  {
   "cell_type": "markdown",
   "id": "ee8c2536",
   "metadata": {},
   "source": [
    "Ans: inputInt() function Accepts an integer value. This also takes additional parameters min, max, greaterThan and lessThan for bounds. And it always returns an int."
   ]
  },
  {
   "cell_type": "code",
   "execution_count": 8,
   "id": "95d12401",
   "metadata": {},
   "outputs": [],
   "source": [
    "# Example code\n",
    "import pyinputplus as pyip"
   ]
  },
  {
   "cell_type": "code",
   "execution_count": 9,
   "id": "a2351f1c",
   "metadata": {},
   "outputs": [
    {
     "name": "stdout",
     "output_type": "stream",
     "text": [
      "3\n",
      "Number must be at minimum 4.\n",
      "7\n",
      "Number must be at maximum 6.\n",
      "4\n"
     ]
    }
   ],
   "source": [
    "result=pyip.inputNum(min=4,max=6)"
   ]
  },
  {
   "cell_type": "code",
   "execution_count": 10,
   "id": "35962df2",
   "metadata": {},
   "outputs": [
    {
     "data": {
      "text/plain": [
       "4"
      ]
     },
     "execution_count": 10,
     "metadata": {},
     "output_type": "execute_result"
    }
   ],
   "source": [
    "result"
   ]
  },
  {
   "cell_type": "code",
   "execution_count": 11,
   "id": "6cedfba3",
   "metadata": {},
   "outputs": [],
   "source": [
    "import pyinputplus as pyip"
   ]
  },
  {
   "cell_type": "code",
   "execution_count": 12,
   "id": "e61c94c3",
   "metadata": {},
   "outputs": [
    {
     "name": "stdout",
     "output_type": "stream",
     "text": [
      "4\n",
      "Number must be greater than 4.\n",
      "4.1\n"
     ]
    }
   ],
   "source": [
    "result=pyip.inputNum(greaterThan=4,lessThan=6)"
   ]
  },
  {
   "cell_type": "code",
   "execution_count": 13,
   "id": "53c26888",
   "metadata": {},
   "outputs": [
    {
     "data": {
      "text/plain": [
       "4.1"
      ]
     },
     "execution_count": 13,
     "metadata": {},
     "output_type": "execute_result"
    }
   ],
   "source": [
    "result"
   ]
  },
  {
   "cell_type": "markdown",
   "id": "07204f28",
   "metadata": {},
   "source": [
    "#### Q4)  Using PyInputPlus, how do you ensure that the user enters a whole number between 0 and 99?"
   ]
  },
  {
   "cell_type": "markdown",
   "id": "197cd72e",
   "metadata": {},
   "source": [
    "Ans: PyInputPlus module provides a function called as inputInt() which only returns only integer values. inorder to restrict the input between 0 and 99, i'ii use parameters like min & max to ensure that user enters the values between the defined range only."
   ]
  },
  {
   "cell_type": "code",
   "execution_count": 14,
   "id": "59e62a07",
   "metadata": {},
   "outputs": [],
   "source": [
    "# Example code\n",
    "import pyinputplus as pyip"
   ]
  },
  {
   "cell_type": "code",
   "execution_count": 15,
   "id": "c711ecaf",
   "metadata": {},
   "outputs": [
    {
     "name": "stdout",
     "output_type": "stream",
     "text": [
      "Enter a number:0\n"
     ]
    }
   ],
   "source": [
    "wn=pyip.inputInt(prompt='Enter a number:',min=0,max=100)"
   ]
  },
  {
   "cell_type": "code",
   "execution_count": 16,
   "id": "44723f3b",
   "metadata": {},
   "outputs": [
    {
     "name": "stdout",
     "output_type": "stream",
     "text": [
      "0\n"
     ]
    }
   ],
   "source": [
    "print(wn)"
   ]
  },
  {
   "cell_type": "code",
   "execution_count": 17,
   "id": "ecdb90a7",
   "metadata": {},
   "outputs": [
    {
     "name": "stdout",
     "output_type": "stream",
     "text": [
      "Enter a number:89\n"
     ]
    }
   ],
   "source": [
    "wn=pyip.inputInt(prompt='Enter a number:',min=0,max=100)"
   ]
  },
  {
   "cell_type": "markdown",
   "id": "d53d4a43",
   "metadata": {},
   "source": [
    "#### Q5)  What is transferred to the keyword arguments allowRegexes and blockRegexes?"
   ]
  },
  {
   "cell_type": "markdown",
   "id": "69f61c64",
   "metadata": {},
   "source": [
    "Ans: we can use allowRegexes and blockRegexes keyword arguments to take list of regular expression strings to determine what the pyinputplus function will reject or accept valid input."
   ]
  },
  {
   "cell_type": "code",
   "execution_count": 18,
   "id": "7a2c3c22",
   "metadata": {},
   "outputs": [
    {
     "name": "stdout",
     "output_type": "stream",
     "text": [
      "input: AB\n",
      "'AB' is not a number.\n",
      "input: 'ABC'\n"
     ]
    },
    {
     "data": {
      "text/plain": [
       "\"'ABC'\""
      ]
     },
     "execution_count": 18,
     "metadata": {},
     "output_type": "execute_result"
    }
   ],
   "source": [
    "# Example allowRegexes\n",
    "import pyinputplus as pyip\n",
    "pyip.inputNum('input: ', allowRegexes=[r'(C)+'])"
   ]
  },
  {
   "cell_type": "code",
   "execution_count": 21,
   "id": "f4e95611",
   "metadata": {},
   "outputs": [
    {
     "name": "stdout",
     "output_type": "stream",
     "text": [
      "input:Hello\n",
      "'Hello' is not a number.\n",
      "input:0\n"
     ]
    },
    {
     "data": {
      "text/plain": [
       "0"
      ]
     },
     "execution_count": 21,
     "metadata": {},
     "output_type": "execute_result"
    }
   ],
   "source": [
    "# Example blockRegexes\n",
    "import pyinputplus as pyip\n",
    "pyip.inputNum('input:',allowRegexes=[r'(c)+'])"
   ]
  },
  {
   "cell_type": "markdown",
   "id": "08c572c8",
   "metadata": {},
   "source": [
    "#### Q6) If a blank input is entered three times, what does inputStr(limit=3) do?"
   ]
  },
  {
   "cell_type": "markdown",
   "id": "aaa835f4",
   "metadata": {},
   "source": [
    "Ans: The statement inputStr(limit=3) will throw two exceptions ValidationException and RetryLimitException. The first exception is thrown because blank values are not allowed by inputStr() function by default. it we want to consider blank values as valid input, we have to set blank=True.\n",
    "The second exception is occured because we have reached the max limit we have specified by using limit parameter. inorder to avoid this exception we can use default parameter to return a default value when max limit is reached."
   ]
  },
  {
   "cell_type": "code",
   "execution_count": 22,
   "id": "d6bcd532",
   "metadata": {},
   "outputs": [
    {
     "name": "stdout",
     "output_type": "stream",
     "text": [
      "cat\n",
      "This response is invalid.\n",
      "catastrophe\n",
      "This response is invalid.\n",
      "category\n"
     ]
    }
   ],
   "source": [
    "import pyinputplus as pyip\n",
    "response = pyip.inputStr(allowRegexes=[r'caterpillar', 'category'],\n",
    "blockRegexes=[r'cat'])"
   ]
  },
  {
   "cell_type": "code",
   "execution_count": 23,
   "id": "beec6a9e",
   "metadata": {},
   "outputs": [
    {
     "data": {
      "text/plain": [
       "'category'"
      ]
     },
     "execution_count": 23,
     "metadata": {},
     "output_type": "execute_result"
    }
   ],
   "source": [
    "response"
   ]
  },
  {
   "cell_type": "markdown",
   "id": "2585a04f",
   "metadata": {},
   "source": [
    "#### Q7) If blank input is entered three times, what does inputStr(limit=3, default='hello') do?"
   ]
  },
  {
   "cell_type": "markdown",
   "id": "277ef0b3",
   "metadata": {},
   "source": [
    "Ans: Since the default parameter is set to hello. after blank input is entered three times instead of raising RetryLimitException exception. the function will return hello as response to the calling function"
   ]
  }
 ],
 "metadata": {
  "kernelspec": {
   "display_name": "Python 3",
   "language": "python",
   "name": "python3"
  },
  "language_info": {
   "codemirror_mode": {
    "name": "ipython",
    "version": 3
   },
   "file_extension": ".py",
   "mimetype": "text/x-python",
   "name": "python",
   "nbconvert_exporter": "python",
   "pygments_lexer": "ipython3",
   "version": "3.8.8"
  }
 },
 "nbformat": 4,
 "nbformat_minor": 5
}
