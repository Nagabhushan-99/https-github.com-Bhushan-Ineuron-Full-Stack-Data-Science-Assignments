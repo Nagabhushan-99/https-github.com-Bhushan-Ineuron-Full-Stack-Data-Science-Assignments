{
 "cells": [
  {
   "cell_type": "markdown",
   "id": "2c24a9ba",
   "metadata": {},
   "source": [
    "#### Q1) To what does a relative path refer"
   ]
  },
  {
   "cell_type": "markdown",
   "id": "0444af16",
   "metadata": {},
   "source": [
    "Ans: The relative path is the path to some file with respect to your current working directory (PWD).\n",
    "For example: if Absolute path to a file called stuff.txt is: C:/users/admin/docs/stuff.txt If my PWD is C:/users/admin/ , then the relative path to stuff.txt would be: docs/stuff.txt\n",
    "Note: PWD + relative path = absolute path"
   ]
  },
  {
   "cell_type": "markdown",
   "id": "40acd721",
   "metadata": {},
   "source": [
    "#### Q2) What does an absolute path start with your operating system?"
   ]
  },
  {
   "cell_type": "markdown",
   "id": "263b13d4",
   "metadata": {},
   "source": [
    "Ans: In Linux based systems the absolute path starts with /. Where as in Windows based systems absolute path starts with C:"
   ]
  },
  {
   "cell_type": "markdown",
   "id": "4a3ecf3c",
   "metadata": {},
   "source": [
    "#### Q3) What do the functions os.getcwd() and os.chdir() do?"
   ]
  },
  {
   "cell_type": "markdown",
   "id": "3111ccfa",
   "metadata": {},
   "source": [
    "Ans: Ans: os.getcwd() method tells us the location of current working directory (CWD). Whereas os.chdir() method in Python used to change the current working directory to specified path. These functions are similar to linux commands pwd and cd"
   ]
  },
  {
   "cell_type": "code",
   "execution_count": 1,
   "id": "7817b489",
   "metadata": {},
   "outputs": [],
   "source": [
    "# Example code\n",
    "import os"
   ]
  },
  {
   "cell_type": "code",
   "execution_count": 2,
   "id": "1f1e2abc",
   "metadata": {},
   "outputs": [
    {
     "name": "stdout",
     "output_type": "stream",
     "text": [
      "C:\\Users\\vasudha\n"
     ]
    }
   ],
   "source": [
    "print(os.getcwd()) # Prints the current working direcrory"
   ]
  },
  {
   "cell_type": "code",
   "execution_count": 3,
   "id": "01408ef2",
   "metadata": {},
   "outputs": [],
   "source": [
    "path=r'C:\\Users\\vasudha\\AppData\\Local\\Programs\\Python\\Python36'"
   ]
  },
  {
   "cell_type": "code",
   "execution_count": 4,
   "id": "496a35c1",
   "metadata": {},
   "outputs": [],
   "source": [
    "os.chdir(path)"
   ]
  },
  {
   "cell_type": "code",
   "execution_count": 5,
   "id": "282c55a7",
   "metadata": {},
   "outputs": [
    {
     "name": "stdout",
     "output_type": "stream",
     "text": [
      "C:\\Users\\vasudha\\AppData\\Local\\Programs\\Python\\Python36\n"
     ]
    }
   ],
   "source": [
    "print(os.getcwd())"
   ]
  },
  {
   "cell_type": "markdown",
   "id": "458d8ca8",
   "metadata": {},
   "source": [
    "#### Q4) 4.What are . and .. folders ?"
   ]
  },
  {
   "cell_type": "markdown",
   "id": "3bca8509",
   "metadata": {},
   "source": [
    "Ans: . Represents the Current Directory Whereas .. Represents the Parent Directory of the Current Directory\n",
    "For Example: if the below path is my absolute path:\n",
    "'C:\\Users\\vasudha\\AppData\\Local\\Programs\\Python\\Python36'\n",
    "Then . represents the path C:\\Users\\vasudha\\AppData\\Local\\Programs\\Python\\Python36\\Lib\n",
    "Where as .. represents the path C:\\Users\\vasudha\\AppData\\Local\\Programs\\Python\\Python36\\Lib\\"
   ]
  },
  {
   "cell_type": "markdown",
   "id": "2760db1a",
   "metadata": {},
   "source": [
    "#### Q5) In c:\\bacon\\eggs\\spam.txt, which part is the dir name, and which part is the base name?"
   ]
  },
  {
   "cell_type": "markdown",
   "id": "b7bbccac",
   "metadata": {},
   "source": [
    "Ans: For C:\\bacon\\eggs\\spam.txt\n",
    "The dir name is C:\\\\bacon\\\\eggs\n",
    "The Base name is spam.txt"
   ]
  },
  {
   "cell_type": "code",
   "execution_count": 7,
   "id": "d9439c75",
   "metadata": {},
   "outputs": [
    {
     "name": "stdout",
     "output_type": "stream",
     "text": [
      "C:\\bacon\\eggs\n",
      "spam.txt\n"
     ]
    }
   ],
   "source": [
    "# Example code\n",
    "import os\n",
    "path=r'C:\\bacon\\eggs\\spam.txt'\n",
    "print(os.path.dirname(path))\n",
    "print(os.path.basename(path))"
   ]
  },
  {
   "cell_type": "markdown",
   "id": "393c6a58",
   "metadata": {},
   "source": [
    "#### Q6) What are the three \"mode\" arguments that can be passed to the open() function?"
   ]
  },
  {
   "cell_type": "markdown",
   "id": "c93cdf16",
   "metadata": {},
   "source": [
    "Ans: A file can be Accessed in python using open() function. open function takes two arguments filename and mode of operation (optional). if mode is not provided the default mode of opening is read mode\n",
    "So, the syntax being: open(filename, mode)\n",
    "‘r’ – Read Mode: This is the default mode for open(). The file is opened and a pointer is positioned at the beginning of the file’s content.\n",
    "‘w’ – Write Mode: Using this mode will overwrite any existing content in a file. If the given file does not exist, a new one will be created.\n",
    "‘r+’ – Read/Write Mode: Use this mode if you need to simultaneously read and write to a file.\n",
    "‘a’ – Append Mode: With this mode the user can append the data without overwriting any already existing data in the file.\n",
    "‘a+’ – Append and Read Mode: In this mode you can read and append the data without overwriting the original file.\n",
    "‘x’ – Exclusive Creating Mode: This mode is for the sole purpose of creating new files. Use this mode if you know the file to be written doesn’t exist beforehand."
   ]
  },
  {
   "cell_type": "markdown",
   "id": "b2d9c8a2",
   "metadata": {},
   "source": [
    "#### Q7) What happens if an existing file is opened in write mode?"
   ]
  },
  {
   "cell_type": "markdown",
   "id": "ee62f616",
   "metadata": {},
   "source": [
    "Ans: Using this mode will overwrite any existing content in a file. If the given file does not exist, a new one will be created."
   ]
  },
  {
   "cell_type": "markdown",
   "id": "74de2cbf",
   "metadata": {},
   "source": [
    "#### Q8) How do you tell the difference between read() and readlines()?"
   ]
  },
  {
   "cell_type": "markdown",
   "id": "33e31eb5",
   "metadata": {},
   "source": [
    "Ans: The main difference is that read() will read the whole file at once and then print out the first characters that take up as many bytes as you specify in the parenthesis\n",
    "Whereas the readline() that will read and print out only the first characters that take up as many bytes as you specify in the parenthesis. You may want to use readline() when you're reading files that are too big for your RAM.\n",
    "The read() would treat each character in the file separately, meaning that the iteration would happen for every character.\n",
    "The readline() function, on the other hand, only reads a single line of the file. This means that if the first line of the file were three lines long, the readline() function would only parse (or iterate/operate) on the first line of the file."
   ]
  },
  {
   "cell_type": "markdown",
   "id": "2a36e35b",
   "metadata": {},
   "source": [
    "#### Q9) What data structure does a sheif value resemble?"
   ]
  },
  {
   "cell_type": "markdown",
   "id": "468e8a8c",
   "metadata": {},
   "source": [
    "Ans: it contains key and values it represents dictionary."
   ]
  }
 ],
 "metadata": {
  "kernelspec": {
   "display_name": "Python 3",
   "language": "python",
   "name": "python3"
  },
  "language_info": {
   "codemirror_mode": {
    "name": "ipython",
    "version": 3
   },
   "file_extension": ".py",
   "mimetype": "text/x-python",
   "name": "python",
   "nbconvert_exporter": "python",
   "pygments_lexer": "ipython3",
   "version": "3.8.8"
  }
 },
 "nbformat": 4,
 "nbformat_minor": 5
}
