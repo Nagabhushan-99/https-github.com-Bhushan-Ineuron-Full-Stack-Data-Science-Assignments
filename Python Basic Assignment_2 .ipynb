{
 "cells": [
  {
   "cell_type": "markdown",
   "id": "469c6c97",
   "metadata": {},
   "source": [
    "Q1) what are the two values of the boolean data type? how do you write them?"
   ]
  },
  {
   "cell_type": "markdown",
   "id": "6be322be",
   "metadata": {},
   "source": [
    "Ans: Two Boolean data Type's are\n",
    "1. True\n",
    "2. False\n",
    "1. True==1\n",
    "2. False==0\n",
    "we can evaluate any expression in python and get one of the two answers:True or Flase"
   ]
  },
  {
   "cell_type": "code",
   "execution_count": 1,
   "id": "eb960011",
   "metadata": {},
   "outputs": [
    {
     "name": "stdout",
     "output_type": "stream",
     "text": [
      "True\n"
     ]
    }
   ],
   "source": [
    "#Example\n",
    "print(20>19)"
   ]
  },
  {
   "cell_type": "code",
   "execution_count": 2,
   "id": "613e996c",
   "metadata": {},
   "outputs": [
    {
     "name": "stdout",
     "output_type": "stream",
     "text": [
      "False\n"
     ]
    }
   ],
   "source": [
    "print(21<19)"
   ]
  },
  {
   "cell_type": "markdown",
   "id": "cde60da4",
   "metadata": {},
   "source": [
    "Q2) What are the three different types of Boolean operators?\n",
    "Ans: 1) and\n",
    "     2) or\n",
    "     3) Not"
   ]
  },
  {
   "cell_type": "code",
   "execution_count": 3,
   "id": "8ebe8cb3",
   "metadata": {},
   "outputs": [
    {
     "name": "stdout",
     "output_type": "stream",
     "text": [
      "True\n"
     ]
    }
   ],
   "source": [
    "#Example \n",
    "if 20>19 and 20>18:\n",
    "    print(True)"
   ]
  },
  {
   "cell_type": "code",
   "execution_count": 4,
   "id": "a2d8cd2c",
   "metadata": {},
   "outputs": [
    {
     "name": "stdout",
     "output_type": "stream",
     "text": [
      "True\n"
     ]
    }
   ],
   "source": [
    "if 20>21 or 20>18:\n",
    "    print(True)"
   ]
  },
  {
   "cell_type": "code",
   "execution_count": 5,
   "id": "c674dd56",
   "metadata": {},
   "outputs": [
    {
     "name": "stdout",
     "output_type": "stream",
     "text": [
      "[1, 2, 3, 4, 5]\n"
     ]
    }
   ],
   "source": [
    "List=[1,2,3,4,5]\n",
    "n=[]\n",
    "for i in List:\n",
    "    if i not in n:\n",
    "        n.append(i)\n",
    "print(n)"
   ]
  },
  {
   "cell_type": "markdown",
   "id": "e76d6b7d",
   "metadata": {},
   "source": [
    "Q3)  Make a list of each Boolean operator's truth tables (i.e. every possible combination of Boolean\n",
    "values for the operator and what it evaluate )"
   ]
  },
  {
   "cell_type": "code",
   "execution_count": 6,
   "id": "0a2fc888",
   "metadata": {},
   "outputs": [
    {
     "data": {
      "text/plain": [
       "True"
      ]
     },
     "execution_count": 6,
     "metadata": {},
     "output_type": "execute_result"
    }
   ],
   "source": [
    "True==1 and False==0"
   ]
  },
  {
   "cell_type": "code",
   "execution_count": 7,
   "id": "e2590982",
   "metadata": {},
   "outputs": [
    {
     "data": {
      "text/plain": [
       "0"
      ]
     },
     "execution_count": 7,
     "metadata": {},
     "output_type": "execute_result"
    }
   ],
   "source": [
    "a=0\n",
    "b=0\n",
    "a or b"
   ]
  },
  {
   "cell_type": "code",
   "execution_count": 8,
   "id": "147fd5a8",
   "metadata": {},
   "outputs": [
    {
     "data": {
      "text/plain": [
       "1"
      ]
     },
     "execution_count": 8,
     "metadata": {},
     "output_type": "execute_result"
    }
   ],
   "source": [
    "a=0\n",
    "b=1\n",
    "a or b"
   ]
  },
  {
   "cell_type": "code",
   "execution_count": 9,
   "id": "5c6c2d00",
   "metadata": {},
   "outputs": [
    {
     "data": {
      "text/plain": [
       "1"
      ]
     },
     "execution_count": 9,
     "metadata": {},
     "output_type": "execute_result"
    }
   ],
   "source": [
    "a=1\n",
    "b=0\n",
    "a or b"
   ]
  },
  {
   "cell_type": "code",
   "execution_count": 10,
   "id": "3c71e48a",
   "metadata": {},
   "outputs": [
    {
     "data": {
      "text/plain": [
       "1"
      ]
     },
     "execution_count": 10,
     "metadata": {},
     "output_type": "execute_result"
    }
   ],
   "source": [
    "a=1\n",
    "b=1\n",
    "a or b"
   ]
  },
  {
   "cell_type": "code",
   "execution_count": 11,
   "id": "76c3916b",
   "metadata": {},
   "outputs": [
    {
     "data": {
      "text/plain": [
       "0"
      ]
     },
     "execution_count": 11,
     "metadata": {},
     "output_type": "execute_result"
    }
   ],
   "source": [
    "p=0\n",
    "q=0\n",
    "p and q"
   ]
  },
  {
   "cell_type": "code",
   "execution_count": 12,
   "id": "048b4d90",
   "metadata": {},
   "outputs": [
    {
     "data": {
      "text/plain": [
       "0"
      ]
     },
     "execution_count": 12,
     "metadata": {},
     "output_type": "execute_result"
    }
   ],
   "source": [
    "p=0\n",
    "q=1\n",
    "p and q"
   ]
  },
  {
   "cell_type": "code",
   "execution_count": 13,
   "id": "5135b556",
   "metadata": {},
   "outputs": [
    {
     "data": {
      "text/plain": [
       "0"
      ]
     },
     "execution_count": 13,
     "metadata": {},
     "output_type": "execute_result"
    }
   ],
   "source": [
    "p=1\n",
    "q=0\n",
    "p and q"
   ]
  },
  {
   "cell_type": "code",
   "execution_count": 14,
   "id": "787f427c",
   "metadata": {},
   "outputs": [
    {
     "data": {
      "text/plain": [
       "1"
      ]
     },
     "execution_count": 14,
     "metadata": {},
     "output_type": "execute_result"
    }
   ],
   "source": [
    "p=1\n",
    "q=1\n",
    "p and q"
   ]
  },
  {
   "cell_type": "markdown",
   "id": "4123645c",
   "metadata": {},
   "source": [
    "Q4)What are the values of the following expressions?\n",
    "(5 > 4) and (3 == 5)\n",
    "not (5 > 4)\n",
    "(5 > 4) or (3 == 5)\n",
    "not ((5 > 4) or (3 == 5))\n",
    "(True and True) and (True == False)\n",
    "(not False) or (not True)"
   ]
  },
  {
   "cell_type": "code",
   "execution_count": 15,
   "id": "363cccbc",
   "metadata": {},
   "outputs": [
    {
     "name": "stdout",
     "output_type": "stream",
     "text": [
      "(5 > 4) and (3 == 5)--> False\n",
      "not(5>4)--> False\n",
      "(5>4)or(3==5)--> True\n",
      "not ((5 > 4) or (3 == 5))--> False\n",
      "(True and True) and (True == False)--> False\n",
      "(not False) or (not True)--> True\n"
     ]
    }
   ],
   "source": [
    "print(\"(5 > 4) and (3 == 5)-->\",(5 > 4) and (3 == 5))\n",
    "print(\"not(5>4)-->\",not(5>4))\n",
    "print(\"(5>4)or(3==5)-->\",(5>4)or(3==5))\n",
    "print(\"not ((5 > 4) or (3 == 5))-->\",not ((5 > 4) or (3 == 5)))\n",
    "print(\"(True and True) and (True == False)-->\",(True and True) and (True == False))\n",
    "print(\"(not False) or (not True)-->\",(not False) or (not True))"
   ]
  },
  {
   "cell_type": "markdown",
   "id": "935e5e93",
   "metadata": {},
   "source": [
    "Q5) What are the six comparison operators?\n",
    "Ans: Comparisor operators are as follows:\n",
    "    1. <  greater than\n",
    "    2. >  less than\n",
    "    3. <= less than equal to\n",
    "    4. >= greater than equal to\n",
    "    5. == equal to\n",
    "    6. != not equal to"
   ]
  },
  {
   "cell_type": "markdown",
   "id": "6ffc2e73",
   "metadata": {},
   "source": [
    "Q6)How do you tell the difference between the equal to and assignment operators?Describe a condition and when you would use one."
   ]
  },
  {
   "cell_type": "markdown",
   "id": "924cff55",
   "metadata": {},
   "source": [
    "== is equal to i.e double = sign\n",
    "= is assignment operator\n",
    "for example:"
   ]
  },
  {
   "cell_type": "code",
   "execution_count": 16,
   "id": "198ae7a7",
   "metadata": {},
   "outputs": [
    {
     "name": "stdout",
     "output_type": "stream",
     "text": [
      "True\n"
     ]
    }
   ],
   "source": [
    "# Assignment operator example\n",
    "a=20\n",
    "b=20\n",
    "# Equal to operator example\n",
    "if a==b:\n",
    "    print(True)"
   ]
  },
  {
   "cell_type": "markdown",
   "id": "414bda90",
   "metadata": {},
   "source": [
    "Q7) Identify the three blocks in this code:"
   ]
  },
  {
   "cell_type": "code",
   "execution_count": 17,
   "id": "e5a2b256",
   "metadata": {},
   "outputs": [
    {
     "name": "stdout",
     "output_type": "stream",
     "text": [
      "spam\n"
     ]
    }
   ],
   "source": [
    "spam = 0\n",
    "if spam == 10:\n",
    "    print('eggs')   # A block is a piece of Python program text that is executed as a unit\n",
    "    if spam > 5:    # so here everything inside if statement is a block.  \n",
    "        print('bacon')\n",
    "    else:\n",
    "        print('ham')\n",
    "    print('spam')\n",
    "print('spam')"
   ]
  },
  {
   "cell_type": "markdown",
   "id": "16f707d4",
   "metadata": {},
   "source": [
    "Q8) Write code that prints Hello if 1 is stored in spam, prints Howdy if 2 is stored in spam, and prints Greetings! if anything else is stored in spam."
   ]
  },
  {
   "cell_type": "code",
   "execution_count": 18,
   "id": "ab471dfe",
   "metadata": {},
   "outputs": [
    {
     "name": "stdout",
     "output_type": "stream",
     "text": [
      "1\n",
      "Hello\n"
     ]
    }
   ],
   "source": [
    "spam=int(input())\n",
    "if spam==1:\n",
    "    print('Hello')\n",
    "elif spam==2:\n",
    "    print('Howdy')\n",
    "else:\n",
    "    print('Greetings!')"
   ]
  },
  {
   "cell_type": "code",
   "execution_count": 19,
   "id": "3f3ebd0e",
   "metadata": {},
   "outputs": [
    {
     "name": "stdout",
     "output_type": "stream",
     "text": [
      "2\n",
      "Howdy\n"
     ]
    }
   ],
   "source": [
    "spam=int(input())\n",
    "if spam==1:\n",
    "    print('Hello')\n",
    "elif spam==2:\n",
    "    print('Howdy')\n",
    "else:\n",
    "    print('Greetings!')"
   ]
  },
  {
   "cell_type": "code",
   "execution_count": 20,
   "id": "151567bb",
   "metadata": {},
   "outputs": [
    {
     "name": "stdout",
     "output_type": "stream",
     "text": [
      "5\n",
      "Greetings!\n"
     ]
    }
   ],
   "source": [
    "spam=int(input())\n",
    "if spam==1:\n",
    "    print('Hello')\n",
    "elif spam==2:\n",
    "    print('Howdy')\n",
    "else:\n",
    "    print('Greetings!')"
   ]
  },
  {
   "cell_type": "markdown",
   "id": "8207b6db",
   "metadata": {},
   "source": [
    "Q9)If your programme is stuck in an endless loop, what keys you’ll press?\n",
    "Ans: In case of jupyter we can stop kernal.\n",
    "In case of command line prompt press Ctrl+C"
   ]
  },
  {
   "cell_type": "markdown",
   "id": "c134b7c2",
   "metadata": {},
   "source": [
    "Q10)How can you tell the difference between break and continue?"
   ]
  },
  {
   "cell_type": "code",
   "execution_count": 21,
   "id": "6e7f20b7",
   "metadata": {},
   "outputs": [
    {
     "name": "stdout",
     "output_type": "stream",
     "text": [
      "0\n",
      "1\n",
      "2\n",
      "3\n",
      "4\n"
     ]
    }
   ],
   "source": [
    "#example of break\n",
    "for i in range(10):\n",
    "    if i==5:\n",
    "        break\n",
    "    print(i)"
   ]
  },
  {
   "cell_type": "code",
   "execution_count": 22,
   "id": "312c9ba1",
   "metadata": {},
   "outputs": [
    {
     "name": "stdout",
     "output_type": "stream",
     "text": [
      "10\n",
      "20\n",
      "40\n",
      "50\n"
     ]
    }
   ],
   "source": [
    "#example of continue\n",
    "num = [10,20,30,40,50]\n",
    "for i in num:\n",
    "    if i==30:\n",
    "        continue\n",
    "    print(i)"
   ]
  },
  {
   "cell_type": "markdown",
   "id": "05e61ae6",
   "metadata": {},
   "source": [
    "Q11) In a for loop, what is the difference between range(10), range(0, 10), and range(0, 10, 1)?\n",
    "Ans: both range(10) and range(0,10) are same because the both give numbers from 0 to 9.\n",
    "also in case of range(0,10,1) give same output starting from 0 with increment of 1 \n",
    "upto 9"
   ]
  },
  {
   "cell_type": "markdown",
   "id": "3cebb5eb",
   "metadata": {},
   "source": [
    "12. Write a short program that prints the numbers 1 to 10 using a for loop. Then write an equivalent program that prints the numbers 1 to 10 using a while loop."
   ]
  },
  {
   "cell_type": "code",
   "execution_count": 23,
   "id": "5611030f",
   "metadata": {},
   "outputs": [
    {
     "name": "stdout",
     "output_type": "stream",
     "text": [
      "1\n",
      "2\n",
      "3\n",
      "4\n",
      "5\n",
      "6\n",
      "7\n",
      "8\n",
      "9\n",
      "10\n"
     ]
    }
   ],
   "source": [
    "# For Loop\n",
    "for i in range(1,11):\n",
    "    print(i)"
   ]
  },
  {
   "cell_type": "code",
   "execution_count": 24,
   "id": "40b9ab8f",
   "metadata": {},
   "outputs": [
    {
     "name": "stdout",
     "output_type": "stream",
     "text": [
      "1\n",
      "2\n",
      "3\n",
      "4\n",
      "5\n",
      "6\n",
      "7\n",
      "8\n",
      "9\n",
      "10\n"
     ]
    }
   ],
   "source": [
    "# while loop\n",
    "i=1\n",
    "while i<=10:\n",
    "    print(i)\n",
    "    i+=1"
   ]
  },
  {
   "cell_type": "markdown",
   "id": "ab7cb449",
   "metadata": {},
   "source": [
    "Q13)If you had a function named bacon() inside a module named spam, how would you call it after\n",
    "importing spam?"
   ]
  },
  {
   "cell_type": "code",
   "execution_count": 25,
   "id": "4e4cefc8",
   "metadata": {},
   "outputs": [
    {
     "name": "stderr",
     "output_type": "stream",
     "text": [
      "ERROR: Could not find a version that satisfies the requirement spam\n",
      "ERROR: No matching distribution found for spam\n"
     ]
    },
    {
     "ename": "ModuleNotFoundError",
     "evalue": "No module named 'spam'",
     "output_type": "error",
     "traceback": [
      "\u001b[1;31m---------------------------------------------------------------------------\u001b[0m",
      "\u001b[1;31mModuleNotFoundError\u001b[0m                       Traceback (most recent call last)",
      "\u001b[1;32m<ipython-input-25-f958b9321df7>\u001b[0m in \u001b[0;36m<module>\u001b[1;34m\u001b[0m\n\u001b[0;32m      1\u001b[0m \u001b[0mget_ipython\u001b[0m\u001b[1;33m(\u001b[0m\u001b[1;33m)\u001b[0m\u001b[1;33m.\u001b[0m\u001b[0msystem\u001b[0m\u001b[1;33m(\u001b[0m\u001b[1;34m'pip install spam'\u001b[0m\u001b[1;33m)\u001b[0m\u001b[1;33m\u001b[0m\u001b[1;33m\u001b[0m\u001b[0m\n\u001b[1;32m----> 2\u001b[1;33m \u001b[1;32mfrom\u001b[0m \u001b[0mspam\u001b[0m \u001b[1;32mimport\u001b[0m \u001b[0mbacon\u001b[0m\u001b[1;33m\u001b[0m\u001b[1;33m\u001b[0m\u001b[0m\n\u001b[0m",
      "\u001b[1;31mModuleNotFoundError\u001b[0m: No module named 'spam'"
     ]
    }
   ],
   "source": [
    "!pip install spam\n",
    "from spam import bacon"
   ]
  },
  {
   "cell_type": "code",
   "execution_count": 26,
   "id": "bec976a7",
   "metadata": {},
   "outputs": [
    {
     "ename": "AttributeError",
     "evalue": "'int' object has no attribute 'bacon'",
     "output_type": "error",
     "traceback": [
      "\u001b[1;31m---------------------------------------------------------------------------\u001b[0m",
      "\u001b[1;31mAttributeError\u001b[0m                            Traceback (most recent call last)",
      "\u001b[1;32m<ipython-input-26-82453a99dc27>\u001b[0m in \u001b[0;36m<module>\u001b[1;34m\u001b[0m\n\u001b[1;32m----> 1\u001b[1;33m \u001b[0mspam\u001b[0m\u001b[1;33m.\u001b[0m\u001b[0mbacon\u001b[0m\u001b[1;33m(\u001b[0m\u001b[1;33m)\u001b[0m\u001b[1;33m\u001b[0m\u001b[1;33m\u001b[0m\u001b[0m\n\u001b[0m",
      "\u001b[1;31mAttributeError\u001b[0m: 'int' object has no attribute 'bacon'"
     ]
    }
   ],
   "source": [
    "spam.bacon()"
   ]
  }
 ],
 "metadata": {
  "kernelspec": {
   "display_name": "Python 3",
   "language": "python",
   "name": "python3"
  },
  "language_info": {
   "codemirror_mode": {
    "name": "ipython",
    "version": 3
   },
   "file_extension": ".py",
   "mimetype": "text/x-python",
   "name": "python",
   "nbconvert_exporter": "python",
   "pygments_lexer": "ipython3",
   "version": "3.8.8"
  }
 },
 "nbformat": 4,
 "nbformat_minor": 5
}
